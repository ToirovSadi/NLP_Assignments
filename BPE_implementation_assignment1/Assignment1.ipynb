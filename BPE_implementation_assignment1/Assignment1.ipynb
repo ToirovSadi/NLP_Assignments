{
  "cells": [
    {
      "cell_type": "markdown",
      "metadata": {
        "id": "RKboZnAdgrRM"
      },
      "source": [
        "# [NLP] Assignment 1: Tokenization\n",
        "\n",
        "In this assignment, you need to tokenize the text of the Twitter(X) users posts(tweets). The assignment consists of two tasks. When you finish all the tasks, create a GitHub repository for this assignment (you can use this repo later for the other assignments) and submit this notebook in the repository. Leave `requirements.txt` file if your code requires additional installations. Submit the link to the repository in Moodle.\n",
        "\n",
        "The [data](https://drive.google.com/file/d/15x_wPAflvYQ2Xh38iNQGrqUIWLj5l5Nw/view?usp=share_link) contains 5 files whereby each contains 44 tweets. Each tweet is separated by a newline."
      ]
    },
    {
      "cell_type": "code",
      "execution_count": 1,
      "metadata": {},
      "outputs": [
        {
          "name": "stderr",
          "output_type": "stream",
          "text": [
            "Downloading...\n",
            "From: https://drive.google.com/uc?id=15x_wPAflvYQ2Xh38iNQGrqUIWLj5l5Nw\n",
            "To: c:\\Users\\Sadi\\Desktop\\trash\\innopolis\\nlp\\assignments\\assignment1\\data.zip\n",
            "\n",
            "  0%|          | 0.00/15.6k [00:00<?, ?B/s]\n",
            "100%|██████████| 15.6k/15.6k [00:00<00:00, 1.11MB/s]\n"
          ]
        }
      ],
      "source": [
        "!gdown -O data.zip https://drive.google.com/file/d/15x_wPAflvYQ2Xh38iNQGrqUIWLj5l5Nw/view?usp=share_link --fuzzy"
      ]
    },
    {
      "cell_type": "code",
      "execution_count": 5,
      "metadata": {},
      "outputs": [
        {
          "name": "stdout",
          "output_type": "stream",
          "text": [
            "Camping in Maine for the weekend. Hey Dad, Mama Loves YOU: http://www.mamapalooza.com\n",
            "\n",
            "Its american tradition bitch\n",
            "\n",
            "@ThroughTheVoid They love it! The only pleasure they get in life. I actually do that. I'm sure I hear a tiny squeak... Then louder ones\n",
            "\n",
            "\" RT @latti: @AbsoHilare stop tweeting in church! Lol <--- \"\"I tweet because I'm happy, I tweet because I'm free\"\" LOL!\"\n",
            "\n",
            "Samsung Mini S2 portable HDD graced with colors that perfectly match your tacky beach gear: Sammy's done it aga.. http://tinyurl.com/lb5p6m\n",
            "\n",
            "@dialloc congrats on finding your way over. it may be slow going at first. hang in there. it's kinda cool when u get up to speed.\n",
            "\n",
            "iPhone activation delays continue, Apple offers $30 http://twt.gs/l3Ki\n",
            "\n",
            "RT @GoogleAtWork Gmail maximum attachment size now 25MB http://bit.ly/62mjw Nice!!!\n",
            "\n",
            "RT @acfou The Ads Won Awards for Crispin; But Did Nothing for Client BurgerKing's Sales/Marketshare - Big Surprise - http://ping.fm/vw8TI\n",
            "\n",
            "Hey doll! Great I missed True Blood yday boo lol Rt @FrankBanuat78 @jhillstephens Hello Sunshine how are u today? :-)\n",
            "\n",
            "Australian artist Pogo made these free songs primarily from sampled audio from Alice In Wonderland. http://www.last.fm/music/Pogo/Wonderland\n",
            "\n"
          ]
        }
      ],
      "source": [
        "with open('data/file2', 'r') as f:\n",
        "    cnt = 0\n",
        "    for l in f:\n",
        "        print(l)\n",
        "        cnt += 1\n",
        "        if cnt > 10:\n",
        "            break"
      ]
    },
    {
      "cell_type": "markdown",
      "metadata": {
        "id": "aLDjjAvemUP_"
      },
      "source": [
        "## Task 1. Tokenize some tweets manually (20 points)\n",
        "\n",
        "As a first task you need to tokenize first 15 tweets from `file2` by hand. This will allow you to understand the problem from a linguistic point of view. The guidelines for tweet tokenization are as follows:\n",
        "\n",
        "- Each smiley is a separate token\n",
        "- Each hashtag is an individual token. Each user reference is an individual token\n",
        "- If a word has spaces between them then it is converted to a single token\n",
        "- All punctuations are individual tokens. This includes double-quotes and single quotes also\n",
        "- A URL is a single token\n",
        "\n",
        "Example of output\n",
        "\n",
        "    Input tweet\n",
        "    @xfranman Old age has made N A T O!\n",
        "\n",
        "    Tokenized tweet (separated by comma)\n",
        "    @xfranman , Old , age , has , made , NATO , !"
      ]
    },
    {
      "cell_type": "code",
      "execution_count": 7,
      "metadata": {},
      "outputs": [
        {
          "data": {
            "text/plain": [
              "['Camping in Maine for the weekend. Hey Dad, Mama Loves YOU: http://www.mamapalooza.com\\n',\n",
              " 'Its american tradition bitch\\n',\n",
              " \"@ThroughTheVoid They love it! The only pleasure they get in life. I actually do that. I'm sure I hear a tiny squeak... Then louder ones\\n\",\n",
              " '\" RT @latti: @AbsoHilare stop tweeting in church! Lol <--- \"\"I tweet because I\\'m happy, I tweet because I\\'m free\"\" LOL!\"\\n',\n",
              " \"Samsung Mini S2 portable HDD graced with colors that perfectly match your tacky beach gear: Sammy's done it aga.. http://tinyurl.com/lb5p6m\\n\",\n",
              " \"@dialloc congrats on finding your way over. it may be slow going at first. hang in there. it's kinda cool when u get up to speed.\\n\",\n",
              " 'iPhone activation delays continue, Apple offers $30 http://twt.gs/l3Ki\\n',\n",
              " 'RT @GoogleAtWork Gmail maximum attachment size now 25MB http://bit.ly/62mjw Nice!!!\\n',\n",
              " \"RT @acfou The Ads Won Awards for Crispin; But Did Nothing for Client BurgerKing's Sales/Marketshare - Big Surprise - http://ping.fm/vw8TI\\n\",\n",
              " 'Hey doll! Great I missed True Blood yday boo lol Rt @FrankBanuat78 @jhillstephens Hello Sunshine how are u today? :-)\\n',\n",
              " 'Australian artist Pogo made these free songs primarily from sampled audio from Alice In Wonderland. http://www.last.fm/music/Pogo/Wonderland\\n',\n",
              " \"@mppritchard they wanted to sell all the preorders & then sell all of the ones they had in stock to those that just walked in. Can't do both\\n\",\n",
              " 'Incoming: Frightened Rabbit, Sept. 22 (Tucson): If Fat Cat Records is going to send three great bands from Scot.. http://tinyurl.com/nz6xcv\\n',\n",
              " 'Hey @ginoandfran please greet philip! (GinoandFran live > http://ustre.am/2YyQ)\\n',\n",
              " \"Ik weet niet wie er achter de T-Mobile iPhone Twitter zit maar ik vind het niet echt 'corporate' taalgebruik... Best vreemd eigenlijk\\n\"]"
            ]
          },
          "execution_count": 7,
          "metadata": {},
          "output_type": "execute_result"
        }
      ],
      "source": [
        "# reading the file2 from the data.zip\n",
        "\n",
        "data = []\n",
        "with open('data/file2', 'r') as f:\n",
        "    data = f.readlines()\n",
        "\n",
        "data[:15]"
      ]
    },
    {
      "cell_type": "markdown",
      "metadata": {
        "id": "7KKKwTidnzUw"
      },
      "source": [
        "\n",
        "    1. Input tweet: Camping in Maine for the weekend. Hey Dad, Mama Loves YOU: http://www.mamapalooza.com\\n\n",
        "    1. Tokenized tweet: Camping , in , Maine , for , the , weekend , . , Hey , Dad , , , Mama , Loves , YOU , : , http://www.mamapalooza.com , \\n\n",
        "    \n",
        "    2. Input tweet: Its american tradition bitch\\n\n",
        "    2. Tokenized tweet: Its , american , tradition , bitch , \\n\n",
        "    \n",
        "    3. Input tweet: @ThroughTheVoid They love it! The only pleasure they get in life. I actually do that. I'm sure I hear a tiny squeak... Then louder ones\\n\n",
        "    3. Tokenized tweet: @ThroughTheVoid , They , love , it , ! , The , only , pleasure , they , get , in , life , . , I , actually , do , that , . , I , ' , m , sure , I , hear , a , tiny , squeak , ... , Then , louder , ones , \\n\n",
        "\n",
        "    4. Input tweet: \" RT @latti: @AbsoHilare stop tweeting in church! Lol <--- \"\"I tweet because I\\'m happy, I tweet because I\\'m free\"\" LOL!\"\\n\n",
        "    4. Tokenized tweet: \" , RT , @latti , : , @AbsoHilare , stop , tweeting , in , church , ! , Lol , < , -, -, - , \" , \" , I tweet because I , \\ , ' , m happy , , , I , tweet , because , I , \\ , ', m , free , \" , \" , LOL , ! , \", \\n\n",
        "\n",
        "    5. Input tweet: Samsung Mini S2 portable HDD graced with colors that perfectly match your tacky beach gear: Sammy's done it aga.. http://tinyurl.com/lb5p6m\\n\n",
        "    5. Tokenized tweet: Samsung , Mini , S2 , portable , HDD , graced , with , colors , that , perfectly , match , your , tacky , beach , gear , : , Sammy , ' , s , done , it , aga , ., . , http://tinyurl.com/lb5p6m , \\n\n",
        "\n",
        "    6. Input tweet: @dialloc congrats on finding your way over. it may be slow going at first. hang in there. it's kinda cool when u get up to speed.\\n\n",
        "    6. Tokenized tweet: @dialloc , congrats , on , finding , your , way , over , . , it , may , be , slow , going , at , first , . , hang , in , there , . , it , ' , s , kinda , cool , when , u , get , up , to , speed , . , \\n\n",
        "\n",
        "    7. Input tweet: iPhone activation delays continue, Apple offers $30 http://twt.gs/l3Ki\\n\n",
        "    7. Tokenized tweet: iPhone , activation , delays , continue , , , Apple , offers , $ , 30 , http://twt.gs/l3Ki , \\n\n",
        "\n",
        "    8. Input tweet: RT @GoogleAtWork Gmail maximum attachment size now 25MB http://bit.ly/62mjw Nice!!!\\n\n",
        "    8. Tokenized tweet: RT , @GoogleAtWork , Gmail , maximum , attachment , size , now , 25 , MB , http://bit.ly/62mjw , Nice , ! , ! , ! , \\n\n",
        "\n",
        "    9. Input tweet: RT @acfou The Ads Won Awards for Crispin; But Did Nothing for Client BurgerKing's Sales/Marketshare - Big Surprise - http://ping.fm/vw8TI\\n\n",
        "    9. Tokenized tweet: RT , @acfou , The , Ads , Won , Awards , for , Crispin , ; , But , Did , Nothing , for , Client , BurgerKing , ' , s , Sales , / , Marketshare , - , Big , Surprise , - , http://ping.fm/vw8TI , \\n\n",
        "\n",
        "    10. Input tweet: Hey doll! Great I missed True Blood yday boo lol Rt @FrankBanuat78 @jhillstephens Hello Sunshine how are u today? :-)\\n\n",
        "    10. Tokenized tweet: Hey , doll , ! , Great , I , missed , True , Blood , yday , boo , lol , Rt , @FrankBanuat78 , @jhillstephens , Hello , Sunshine , how , are , u , today , ? , :-) , \\n\n",
        "\n",
        "    11. Input tweet: Australian artist Pogo made these free songs primarily from sampled audio from Alice In Wonderland. http://www.last.fm/music/Pogo/Wonderland\\n\n",
        "    11. Tokenized tweet: Australian , artist , Pogo , made , these , free , songs , primarily , from , sampled , audio , from , Alice , In , Wonderland , . , http://www.last.fm/music/Pogo/Wonderland , \\n\n",
        "\n",
        "    12. Input tweet: @mppritchard they wanted to sell all the preorders & then sell all of the ones they had in stock to those that just walked in. Can't do both\\n\n",
        "    12. Tokenized tweet: @mppritchard , they , wanted , to , sell , all , the , preorders , & , then , sell , all , of , the , ones , they , had , in , stock , to , those , that , just , walked , in , . Can , ' , t , do , both , \\n\n",
        "\n",
        "    13. Input tweet: Incoming: Frightened Rabbit, Sept. 22 (Tucson): If Fat Cat Records is going to send three great bands from Scot.. http://tinyurl.com/nz6xcv\\n\n",
        "    13. Tokenized tweet: Incoming , : , Frightened , Rabbit , , , Sept , . , 22 , ( , Tucson , ) , : , If , Fat , Cat , Records , is , going , to , send , three , great , bands , from , Scot , . , . , http://tinyurl.com/nz6xcv , \\n\n",
        "\n",
        "    14. Input tweet: Hey @ginoandfran please greet philip! (GinoandFran live > http://ustre.am/2YyQ)\\n\n",
        "    14. Tokenized tweet: Hey , @ginoandfran , please , greet , philip , ! , ( , GinoandFran , live , > , http://ustre.am/2YyQ , ) , \\n\n",
        "\n",
        "    15. Input tweet: Ik weet niet wie er achter de T-Mobile iPhone Twitter zit maar ik vind het niet echt 'corporate' taalgebruik... Best vreemd eigenlijk\\n\n",
        "    15. Tokenized tweet: Ik , weet , niet , wie , er , achter , de , T-Mobile , iPhone , Twitter , zit , maar , ik , vind , het , niet , echt , 'corporate' , taalgebruik , . , . , . , Best , vreemd , eigenlijk , \\n"
      ]
    },
    {
      "cell_type": "markdown",
      "metadata": {
        "id": "-2J2AD2nmUhi"
      },
      "source": [
        "## Task 2. Implement [Byte-Pair Encoding(BPE)](https://arxiv.org/pdf/1508.07909.pdf) Tokenizer (80 points)\n",
        "\n",
        "### Task 2.1. Implementation (60 points)\n",
        "\n",
        "Implement the tokenizer as the BPETokenizer class:\n",
        "* Implement `train` method that learns merges and builds the vocabulary of the specified `vocab_size` (25 points).\n",
        "* Implement `tokenize` method that should tokenize the text according to the learnt merges (25 points).\n",
        "\n",
        "Your code should have docstrings and comments (10 points)."
      ]
    },
    {
      "cell_type": "code",
      "execution_count": 44,
      "metadata": {},
      "outputs": [],
      "source": [
        "from typing import List\n",
        "\n",
        "from collections import defaultdict\n",
        "from nltk.tokenize import word_tokenize\n",
        "import nltk\n",
        "nltk.download('punkt', quiet=True)\n",
        "\n",
        "class BPETokenizer:\n",
        "    def __init__(self, vocab_size: int) -> None:\n",
        "        \"\"\"\n",
        "        Initialize the BPETokenizer class.\n",
        "\n",
        "        Args:\n",
        "            vocab_size (int): The desired size of the vocabulary.\n",
        "        \"\"\"\n",
        "        self.vocab_size = vocab_size\n",
        "        self.vocab = []\n",
        "\n",
        "        self.word_freq = defaultdict(int)\n",
        "        self.merges = {}\n",
        "        self.splits = {}\n",
        "\n",
        "    def train(self, corpus: List[str]) -> None:\n",
        "        \"\"\"\n",
        "        Train the BPETokenizer on the given corpus.\n",
        "\n",
        "        Args:\n",
        "            corpus (List[str]): The list of sentences to train the tokenizer on.\n",
        "        \"\"\"\n",
        "        # split sentences into individual tokens and calculate word frequency\n",
        "        for text in corpus:\n",
        "            tokens = self.get_words(text)\n",
        "            for token in tokens:\n",
        "                self.word_freq[token] += 1\n",
        "        \n",
        "        # build self.vocab\n",
        "        for word in self.word_freq:\n",
        "            for c in word:\n",
        "                if not c in self.vocab:\n",
        "                    self.vocab.append(c)\n",
        "            \n",
        "            self.splits[word] = [c for c in word]\n",
        "\n",
        "        self.vocab.insert(0, '</w>')\n",
        "\n",
        "        # get most freq pair and add it to the vocab\n",
        "        while len(self.vocab) < self.vocab_size:\n",
        "            pairs = self.get_pair_freq()\n",
        "\n",
        "            best = None\n",
        "            best_freq = 0\n",
        "            for pair, freq in pairs.items():\n",
        "                if best is None or best_freq < freq:\n",
        "                    best = pair\n",
        "                    best_freq = freq\n",
        "            \n",
        "            if best is None:\n",
        "                continue\n",
        "\n",
        "            # add best to the vocab\n",
        "            self.vocab.append((best[0] + best[1]))\n",
        "            self.merge_pair(best[0], best[1])\n",
        "            self.merges[best] = best[0] + best[1]\n",
        "\n",
        "        # empty memory\n",
        "        del self.splits\n",
        "\n",
        "    def merge_pair(self, a, b):\n",
        "        \"\"\"\n",
        "        Merge a pair of characters in all the words in the vocabulary.\n",
        "\n",
        "        Args:\n",
        "            a (str): The first character of the pair.\n",
        "            b (str): The second character of the pair.\n",
        "        \"\"\"\n",
        "        for word in self.word_freq:\n",
        "            split = self.splits[word]\n",
        "            i = 0\n",
        "            while i < len(split)-1:\n",
        "                if split[i] == a and split[i+1] == b: # merge them\n",
        "                    split = split[:i] + [a + b] + split[i+2:]\n",
        "                else:\n",
        "                    i += 1           \n",
        "             \n",
        "            self.splits[word] = split\n",
        "\n",
        "\n",
        "    def get_pair_freq(self):\n",
        "        \"\"\"\n",
        "        Calculate the frequency of all character pairs in the vocabulary.\n",
        "\n",
        "        Returns:\n",
        "            dict: A dictionary containing the frequency of each character pair.\n",
        "        \"\"\"\n",
        "        pairs = defaultdict(int)\n",
        "        for word, freq in self.word_freq.items():\n",
        "            split = self.splits[word]\n",
        "            for i in range(len(split)-1):\n",
        "                pairs[(split[i], split[i + 1])] += freq\n",
        "        return pairs\n",
        "\n",
        "\n",
        "    def tokenize(self, text: str) -> List[str]:\n",
        "        \"\"\"\n",
        "        Tokenize the given text using the trained BPETokenizer.\n",
        "\n",
        "        Args:\n",
        "            text (str): The input text to be tokenized.\n",
        "\n",
        "        Returns:\n",
        "            List[str]: The list of tokens generated from the input text.\n",
        "        \"\"\"\n",
        "        tokens = self.get_words(text)\n",
        "        tokens = [[c for c in token] for token in tokens]\n",
        "\n",
        "        for pair, merged in self.merges.items():\n",
        "            for i in range(len(tokens)):\n",
        "                token = tokens[i]\n",
        "\n",
        "                j = 0\n",
        "                while j < len(token)-1:\n",
        "                    if token[j] == pair[0] and token[j+1] == pair[1]:\n",
        "                        token = token[:j] + [merged] + token[j+2:]\n",
        "                    else:\n",
        "                        j += 1\n",
        "                tokens[i] = token\n",
        "        \n",
        "        res = []\n",
        "        for token in tokens:\n",
        "            res.extend(token)\n",
        "        \n",
        "        return res\n",
        "\n",
        "\n",
        "    def get_words(self, sent: str) -> list[str]:\n",
        "        \"\"\"\n",
        "        Tokenize the given sentence into individual words.\n",
        "\n",
        "        Args:\n",
        "            sent (str): The input sentence to be tokenized.\n",
        "\n",
        "        Returns:\n",
        "            list[str]: The list of words generated from the input sentence.\n",
        "        \"\"\"\n",
        "        return word_tokenize(sent)\n",
        "    "
      ]
    },
    {
      "cell_type": "markdown",
      "metadata": {},
      "source": [
        "### Task 2.2. Analysis on Tweets Dataset (10 points)\n",
        "\n",
        "Train the BPE tokenizer on the tweets dataset. Try to tokenize the tweets with the tokenizer of different `vocab_size`. For example, train the BPE tokenizer with `vocab_size` of [base_vocab_size, 250, 500, 750, 1000]. Plot the dependency of the average length of the tokenized tweet by `vocab_size` to analyze how `vocab_size` affects the length of the tokenized tweet on average. Tell what `vocab_size` is preferrable and why."
      ]
    },
    {
      "cell_type": "code",
      "execution_count": 45,
      "metadata": {},
      "outputs": [],
      "source": [
        "import os\n",
        "def get_data(root='data', files=['file1', 'file2', 'file3', 'file4', 'file5']):\n",
        "    data = []\n",
        "    for file in files:\n",
        "        path = os.path.join(root, file)\n",
        "        with open(path, 'r') as f:\n",
        "            data.extend(f.readlines())\n",
        "    \n",
        "    return data"
      ]
    },
    {
      "cell_type": "code",
      "execution_count": 57,
      "metadata": {},
      "outputs": [],
      "source": [
        "data = get_data()\n",
        "\n",
        "average_length = []\n",
        "vocab_sizes = [100, 250, 500, 750, 1000]\n",
        "for vocab_size in vocab_sizes:\n",
        "    bpe = BPETokenizer(vocab_size=vocab_size)\n",
        "    bpe.train(data)\n",
        "    \n",
        "    tokenized = []\n",
        "    for sent in data:\n",
        "        tokenized.extend(bpe.tokenize(sent))\n",
        "    \n",
        "    lengths = [len(t) for t in tokenized]\n",
        "    average_length.append(sum(lengths) / len(lengths))\n"
      ]
    },
    {
      "cell_type": "code",
      "execution_count": 67,
      "metadata": {},
      "outputs": [
        {
          "data": {
            "image/png": "[encoded data removed]",
            "text/plain": [
              "<Figure size 640x480 with 1 Axes>"
            ]
          },
          "metadata": {},
          "output_type": "display_data"
        }
      ],
      "source": [
        "import matplotlib.pyplot as plt\n",
        "\n",
        "plt.plot(vocab_sizes, average_length)\n",
        "plt.title('dependency of the average length of the tokenized tweet by vocab_size')\n",
        "plt.xlabel('vocab_size')\n",
        "plt.ylabel('average token length')\n",
        "plt.show()"
      ]
    },
    {
      "cell_type": "markdown",
      "metadata": {},
      "source": [
        "## I'd prefer to use 750 or 1000 vocab_size, because they cover more words from corpus"
      ]
    },
    {
      "cell_type": "markdown",
      "metadata": {},
      "source": [
        "### Task 2.3. Analysis on Dataset of Different Language (10 points)\n",
        "\n",
        "Find a small dataset of texts in a language other than English. The dataset size should be not greater than several megabytes.\n",
        "\n",
        "Train the BPE tokenizer on the dataset that you found. Try to tokenize the sentences from this dataset with the tokenizer of different `vocab_size`. Plot the dependency of the average length of the tokenized sentence by `vocab_size` to analyze how `vocab_size` affects the length of the tokenized sentence on average.\n",
        "\n",
        "Tell how how the average length of the tokenized sentence differs from the average length of the tokenized tweet. Explain why. "
      ]
    },
    {
      "cell_type": "code",
      "execution_count": 69,
      "metadata": {},
      "outputs": [],
      "source": [
        "data = get_data(root='.', files=['russian_poems.txt'])"
      ]
    },
    {
      "cell_type": "code",
      "execution_count": 73,
      "metadata": {},
      "outputs": [
        {
          "data": {
            "text/plain": [
              "['Александр Пушкин\\n',\n",
              " '19 ОКТЯБРЯ\\n',\n",
              " 'Роняет лес багряный свой убор,\\n',\n",
              " 'Сребрит мороз увянувшее поле,\\n',\n",
              " 'Проглянет день как будто поневоле\\n',\n",
              " 'И скроется за край окружных гор.\\n',\n",
              " 'Пылай, камин, в моей пустынной келье;\\n',\n",
              " 'А ты, вино, осенней стужи друг,\\n',\n",
              " 'Пролей мне в грудь отрадное похмелье,\\n',\n",
              " 'Минутное забвенье горьких мук.\\n']"
            ]
          },
          "execution_count": 73,
          "metadata": {},
          "output_type": "execute_result"
        }
      ],
      "source": [
        "data[:10]"
      ]
    },
    {
      "cell_type": "code",
      "execution_count": 81,
      "metadata": {},
      "outputs": [],
      "source": [
        "# remove \\n from the end and lower the text\n",
        "data = [text.lower()[:-1] for text in data]"
      ]
    },
    {
      "cell_type": "code",
      "execution_count": 82,
      "metadata": {},
      "outputs": [],
      "source": [
        "bpe = BPETokenizer(vocab_size=1000)\n",
        "bpe.train(data)"
      ]
    },
    {
      "cell_type": "code",
      "execution_count": 85,
      "metadata": {},
      "outputs": [
        {
          "data": {
            "text/plain": [
              "['он', 'не', 'при', 'шел', ',', 'ку', 'д', 'ря', 'вый', 'наш', 'пе', 'ве', 'ц']"
            ]
          },
          "execution_count": 85,
          "metadata": {},
          "output_type": "execute_result"
        }
      ],
      "source": [
        "bpe.tokenize('он не пришел, кудрявый наш певец')"
      ]
    },
    {
      "cell_type": "code",
      "execution_count": 89,
      "metadata": {},
      "outputs": [],
      "source": [
        "average_length = []\n",
        "vocab_sizes = [100, 250, 500, 750, 1000, 2000, 5000]\n",
        "for vocab_size in vocab_sizes:\n",
        "    bpe = BPETokenizer(vocab_size=vocab_size)\n",
        "    bpe.train(data)\n",
        "    \n",
        "    tokenized = []\n",
        "    for sent in data[:2000]:\n",
        "        tokenized.extend(bpe.tokenize(sent))\n",
        "    \n",
        "    lengths = [len(t) for t in tokenized]\n",
        "    average_length.append(sum(lengths) / len(lengths))"
      ]
    },
    {
      "cell_type": "code",
      "execution_count": 91,
      "metadata": {},
      "outputs": [
        {
          "data": {
            "image/png": "[encoded data removed]",
            "text/plain": [
              "<Figure size 640x480 with 1 Axes>"
            ]
          },
          "metadata": {},
          "output_type": "display_data"
        }
      ],
      "source": [
        "import matplotlib.pyplot as plt\n",
        "\n",
        "plt.plot(vocab_sizes, average_length)\n",
        "plt.title('dependency of the average length of the tokenized tweet by vocab_size')\n",
        "plt.xlabel('vocab_size')\n",
        "plt.ylabel('average token length')\n",
        "plt.show()"
      ]
    },
    {
      "cell_type": "code",
      "execution_count": 93,
      "metadata": {},
      "outputs": [
        {
          "data": {
            "text/plain": [
              "['он', 'не', 'пришел', ',', 'ку', 'д', 'ря', 'вый', 'наш', 'пе', 'вец']"
            ]
          },
          "execution_count": 93,
          "metadata": {},
          "output_type": "execute_result"
        }
      ],
      "source": [
        "# bpe with vocab_size=5000\n",
        "bpe.tokenize('он не пришел, кудрявый наш певец')"
      ]
    },
    {
      "cell_type": "markdown",
      "metadata": {},
      "source": [
        "## The averaged length of tokenized text is the same as tweet dataset, because BPE algorithm is independent of language. And since english and russian languages have same method of writting (letters) their average length is almost the same."
      ]
    },
    {
      "cell_type": "markdown",
      "metadata": {},
      "source": [
        "### Since `russian_poems.txt` is > 3.3k sentences it's better to get larger vocab_size. As we can see from the plot 5k vocab_size is not enough, because average length is growing fast as we increase vocab_size."
      ]
    }
  ],
  "metadata": {
    "colab": {
      "provenance": [],
      "toc_visible": true
    },
    "kernelspec": {
      "display_name": "Python 3",
      "name": "python3"
    },
    "language_info": {
      "codemirror_mode": {
        "name": "ipython",
        "version": 3
      },
      "file_extension": ".py",
      "mimetype": "text/x-python",
      "name": "python",
      "nbconvert_exporter": "python",
      "pygments_lexer": "ipython3",
      "version": "3.11.7"
    }
  },
  "nbformat": 4,
  "nbformat_minor": 0
}
