{
  "cells": [
    {
      "cell_type": "code",
      "execution_count": null,
      "metadata": {
        "id": "hczz7b8kLUhm"
      },
      "outputs": [],
      "source": [
        "!pip install datasets"
      ]
    },
    {
      "cell_type": "code",
      "execution_count": 10,
      "metadata": {
        "id": "ScQuvgBXKzWT"
      },
      "outputs": [],
      "source": [
        "# get the dataset\n",
        "from dataset import NERDataset\n",
        "from dataset import collate_batch\n",
        "\n",
        "train_dataset = NERDataset(mode='train')\n",
        "test_dataset = NERDataset(mode='test')\n",
        "dev_dataset = NERDataset(mode='dev')"
      ]
    },
    {
      "cell_type": "code",
      "execution_count": 11,
      "metadata": {
        "id": "dbKg4ufQKzWV"
      },
      "outputs": [],
      "source": [
        "from tqdm import tqdm\n",
        "import torch.nn as nn\n",
        "import torch\n",
        "\n",
        "# train the model for only one epoch\n",
        "def train_epoch(model, train_dataloader, optimizer, epoch=None, clip=None, device='cpu'):\n",
        "    loop = tqdm(\n",
        "        enumerate(train_dataloader),\n",
        "        total=len(train_dataloader),\n",
        "        desc=f'Training {epoch if epoch else \"\"}',\n",
        "    )\n",
        "\n",
        "    model.train()\n",
        "    train_loss = 0\n",
        "    for i, batch in loop:\n",
        "        input_ids, token_type_ids, tags_ids = batch[:3]\n",
        "        input_ids, token_type_ids, tags_ids = input_ids.to(device), token_type_ids.to(device), tags_ids.to(device)\n",
        "\n",
        "        optimizer.zero_grad()\n",
        "\n",
        "        # make the prediction\n",
        "        loss = model(\n",
        "            input_ids,\n",
        "            token_type_ids=token_type_ids,\n",
        "            attention_mask=(input_ids != 0).long().to(device),\n",
        "            labels=tags_ids,\n",
        "        )[0]\n",
        "\n",
        "        loss.backward()\n",
        "        if clip:\n",
        "            torch.nn.utils.clip_grad_norm_(model.parameters(), clip)\n",
        "\n",
        "        optimizer.step()\n",
        "\n",
        "        train_loss += loss.item()\n",
        "        loop.set_postfix(**{\"loss\": train_loss / (i + 1)})\n",
        "    return train_loss / len(train_dataloader)\n",
        "\n",
        "# evaluate the model for only one epoch\n",
        "def eval_epoch(model, eval_dataloader, epoch=None, device='cpu'):\n",
        "    loop = tqdm(\n",
        "        enumerate(eval_dataloader),\n",
        "        total=len(eval_dataloader),\n",
        "        desc=f'Evaluating {epoch if epoch else \"\"}',\n",
        "    )\n",
        "\n",
        "    model.eval()\n",
        "    eval_loss = 0\n",
        "    with torch.no_grad():\n",
        "        for i, batch in loop:\n",
        "            input_ids, token_type_ids, tags_ids = batch[:3]\n",
        "            input_ids, token_type_ids, tags_ids = input_ids.to(device), token_type_ids.to(device), tags_ids.to(device)\n",
        "\n",
        "            # make the prediction\n",
        "            loss = model(\n",
        "                input_ids,\n",
        "                token_type_ids=token_type_ids,\n",
        "                attention_mask=(input_ids != 0).long().to(device),\n",
        "                labels=tags_ids,\n",
        "            )[0]\n",
        "\n",
        "            eval_loss += loss.item()\n",
        "            loop.set_postfix(**{\"loss\": eval_loss / (i + 1)})\n",
        "    return eval_loss / len(eval_dataloader)\n",
        "\n",
        "\n",
        "def train(\n",
        "    model=None,\n",
        "    loaders=None,\n",
        "    optimizer=None,\n",
        "    epochs=10,\n",
        "    device=None,\n",
        "    clip_grad=None,\n",
        "    ckpt_path='best.pt',\n",
        "    best_loss=float('inf'),\n",
        "    cur_epoch=1,\n",
        "    return_model=False,\n",
        "):\n",
        "    epoch_cnt = 0\n",
        "    for epoch in range(cur_epoch, epochs + cur_epoch):\n",
        "        train_loss = train_epoch(model, loaders[0], optimizer, epoch, clip_grad, device)\n",
        "        if len(loaders) > 1:\n",
        "            val_loss = eval_epoch(model, loaders[1], epoch, device)\n",
        "        else:\n",
        "            val_loss = train_loss\n",
        "\n",
        "        if val_loss < best_loss:\n",
        "            best_loss = val_loss\n",
        "            torch.save(model, ckpt_path)\n",
        "\n",
        "    if return_model:\n",
        "        return best_loss, model\n",
        "    return best_loss"
      ]
    },
    {
      "cell_type": "code",
      "execution_count": 36,
      "metadata": {
        "id": "vvDriI1iKzWW"
      },
      "outputs": [],
      "source": [
        "# get the dataloaders\n",
        "from torch.utils.data import DataLoader\n",
        "\n",
        "BATCH_SIZE = 16\n",
        "NUM_WORKERS = 0\n",
        "\n",
        "train_dataloader = DataLoader(train_dataset, batch_size=BATCH_SIZE, shuffle=True, num_workers=NUM_WORKERS, collate_fn=collate_batch)\n",
        "test_dataloader = DataLoader(test_dataset, batch_size=BATCH_SIZE, shuffle=False, num_workers=NUM_WORKERS, collate_fn=collate_batch)\n",
        "dev_dataloader = DataLoader(dev_dataset, batch_size=BATCH_SIZE, shuffle=False, num_workers=NUM_WORKERS, collate_fn=collate_batch)"
      ]
    },
    {
      "cell_type": "code",
      "execution_count": 37,
      "metadata": {
        "colab": {
          "base_uri": "https://localhost:8080/"
        },
        "id": "tYkfapd9KzWW",
        "outputId": "0826616e-0dac-408d-89bb-444f327b16fb"
      },
      "outputs": [
        {
          "name": "stdout",
          "output_type": "stream",
          "text": [
            "input_ids.shape: torch.Size([16, 128])\n",
            "token_type_ids.shape: torch.Size([16, 128])\n",
            "tags_ids.shape: torch.Size([16, 128])\n"
          ]
        }
      ],
      "source": [
        "for batch in train_dataloader:\n",
        "    input_ids, token_type_ids, tags_ids = batch\n",
        "    print('input_ids.shape:', input_ids.shape)\n",
        "    print('token_type_ids.shape:', token_type_ids.shape)\n",
        "    print('tags_ids.shape:', tags_ids.shape)\n",
        "    break"
      ]
    },
    {
      "cell_type": "code",
      "execution_count": 38,
      "metadata": {
        "colab": {
          "base_uri": "https://localhost:8080/"
        },
        "id": "H_bzGAbVKzWW",
        "outputId": "e3944867-b336-46e2-a4ab-83fb5973bf27"
      },
      "outputs": [
        {
          "data": {
            "text/plain": [
              "device(type='cuda')"
            ]
          },
          "execution_count": 38,
          "metadata": {},
          "output_type": "execute_result"
        }
      ],
      "source": [
        "device = torch.device('cuda' if torch.cuda.is_available() else 'cpu')\n",
        "device"
      ]
    },
    {
      "cell_type": "markdown",
      "metadata": {
        "id": "VcDQ69p4KzWX"
      },
      "source": [
        "# Fine-tuning the model"
      ]
    },
    {
      "cell_type": "code",
      "execution_count": 50,
      "metadata": {
        "colab": {
          "base_uri": "https://localhost:8080/"
        },
        "id": "-Bfv71-QKzWY",
        "outputId": "2a717aa1-7fd3-4bc9-9614-865e31f696d3"
      },
      "outputs": [
        {
          "name": "stderr",
          "output_type": "stream",
          "text": [
            "Some weights of BertForTokenClassification were not initialized from the model checkpoint at DeepPavlov/rubert-base-cased and are newly initialized: ['classifier.bias', 'classifier.weight']\n",
            "You should probably TRAIN this model on a down-stream task to be able to use it for predictions and inference.\n"
          ]
        }
      ],
      "source": [
        "# get the model\n",
        "from transformers import BertForTokenClassification\n",
        "\n",
        "model = BertForTokenClassification.from_pretrained(\"DeepPavlov/rubert-base-cased\", num_labels = 29 * 4 + 1, return_dict = False).to(device)"
      ]
    },
    {
      "cell_type": "code",
      "execution_count": 51,
      "metadata": {
        "id": "mWSrwbRfKzWa"
      },
      "outputs": [],
      "source": [
        "# parameters\n",
        "LEARNING_RATE = 1e-3\n",
        "EPOCHS = 10\n",
        "\n",
        "parameters = [p for n, p in model.named_parameters() if n.startswith('classifier')]\n",
        "optimizer = torch.optim.Adam(parameters, lr=LEARNING_RATE)"
      ]
    },
    {
      "cell_type": "code",
      "execution_count": 52,
      "metadata": {
        "colab": {
          "base_uri": "https://localhost:8080/"
        },
        "id": "CkXlljOqKzWb",
        "outputId": "77421f29-2874-4370-8e36-4972a980bcde"
      },
      "outputs": [
        {
          "name": "stderr",
          "output_type": "stream",
          "text": [
            "Training 1: 100%|██████████| 29/29 [00:37<00:00,  1.29s/it, loss=2.82]\n",
            "Evaluating 1: 100%|██████████| 6/6 [00:01<00:00,  4.02it/s, loss=1.84]\n",
            "Training 2: 100%|██████████| 29/29 [00:24<00:00,  1.17it/s, loss=1.5]\n",
            "Evaluating 2: 100%|██████████| 6/6 [00:01<00:00,  4.00it/s, loss=1.42]\n",
            "Training 3: 100%|██████████| 29/29 [00:25<00:00,  1.12it/s, loss=1.17]\n",
            "Evaluating 3: 100%|██████████| 6/6 [00:01<00:00,  3.36it/s, loss=1.19]\n",
            "Training 4: 100%|██████████| 29/29 [00:26<00:00,  1.09it/s, loss=0.981]\n",
            "Evaluating 4: 100%|██████████| 6/6 [00:01<00:00,  4.00it/s, loss=1.05]\n",
            "Training 5: 100%|██████████| 29/29 [00:24<00:00,  1.17it/s, loss=0.854]\n",
            "Evaluating 5: 100%|██████████| 6/6 [00:01<00:00,  3.92it/s, loss=0.957]\n",
            "Training 6: 100%|██████████| 29/29 [00:24<00:00,  1.18it/s, loss=0.77]\n",
            "Evaluating 6: 100%|██████████| 6/6 [00:01<00:00,  4.11it/s, loss=0.891]\n",
            "Training 7: 100%|██████████| 29/29 [00:24<00:00,  1.19it/s, loss=0.707]\n",
            "Evaluating 7: 100%|██████████| 6/6 [00:01<00:00,  3.58it/s, loss=0.838]\n",
            "Training 8: 100%|██████████| 29/29 [00:24<00:00,  1.18it/s, loss=0.66]\n",
            "Evaluating 8: 100%|██████████| 6/6 [00:01<00:00,  3.99it/s, loss=0.801]\n",
            "Training 9: 100%|██████████| 29/29 [00:28<00:00,  1.02it/s, loss=0.619]\n",
            "Evaluating 9: 100%|██████████| 6/6 [00:02<00:00,  2.87it/s, loss=0.772]\n",
            "Training 10: 100%|██████████| 29/29 [00:24<00:00,  1.17it/s, loss=0.59]\n",
            "Evaluating 10: 100%|██████████| 6/6 [00:01<00:00,  3.02it/s, loss=0.749]\n"
          ]
        },
        {
          "data": {
            "text/plain": [
              "0.7487468322118124"
            ]
          },
          "execution_count": 52,
          "metadata": {},
          "output_type": "execute_result"
        }
      ],
      "source": [
        "train(model, loaders=(train_dataloader, test_dataloader), optimizer=optimizer, epochs=EPOCHS, device=device)"
      ]
    },
    {
      "cell_type": "code",
      "execution_count": 54,
      "metadata": {
        "id": "po031URqXr96"
      },
      "outputs": [],
      "source": [
        "model = torch.load('best.pt').to(device)"
      ]
    },
    {
      "cell_type": "code",
      "execution_count": 55,
      "metadata": {
        "id": "py1Fl9iQNqA9"
      },
      "outputs": [],
      "source": [
        "def validate(text, model, dataset, addit=0):\n",
        "    t = dataset.tokenizer(text)\n",
        "\n",
        "    input_ids = torch.LongTensor(t['input_ids']).reshape(1, -1)\n",
        "    token_type_ids = torch.LongTensor(t['token_type_ids']).reshape(1, -1)\n",
        "    attention_mask = (input_ids != 0).long()\n",
        "\n",
        "    input_ids = input_ids.to(device)\n",
        "    token_type_ids = token_type_ids.to(device)\n",
        "    attention_mask = attention_mask.to(device)\n",
        "\n",
        "    model.eval()\n",
        "    output = model(input_ids, token_type_ids=token_type_ids, attention_mask=attention_mask)\n",
        "    id2tag = dataset.id2tags\n",
        "    typs = output[0].argmax(-1).squeeze()\n",
        "\n",
        "    res = []\n",
        "    start = 0\n",
        "    ltag = []\n",
        "    i = 0\n",
        "    while i < len(typs):\n",
        "        if typs[i] == 0:\n",
        "            i += 1\n",
        "            continue\n",
        "\n",
        "        j = i + 1\n",
        "        while j < len(typs):\n",
        "            if id2tag[typs[j].item()][2:] != id2tag[typs[i].item()][2:]:\n",
        "                break\n",
        "            j += 1\n",
        "\n",
        "        dataset.tokenizer.decode(t['input_ids'][i:j])\n",
        "        target = dataset.tokenizer.decode(t['input_ids'][i:j])\n",
        "\n",
        "        res.append([text.find(target, start) + addit, text.find(target, start) + len(target) + addit - 1, id2tag[typs[i].item()][2:]])\n",
        "        #print(res[-1], target)\n",
        "        i = j\n",
        "\n",
        "    return res"
      ]
    },
    {
      "cell_type": "code",
      "execution_count": 56,
      "metadata": {
        "colab": {
          "base_uri": "https://localhost:8080/"
        },
        "id": "Vx5hDUrtNqnY",
        "outputId": "d38826ad-f997-4335-a862-3ace2ebe9813"
      },
      "outputs": [
        {
          "data": {
            "text/plain": [
              "[[7, 12, 'PERSON'], [19, 24, 'CITY']]"
            ]
          },
          "execution_count": 56,
          "metadata": {},
          "output_type": "execute_result"
        }
      ],
      "source": [
        "validate(\"Привет Максим, я в Париже\", model, train_dataset)"
      ]
    },
    {
      "cell_type": "code",
      "execution_count": 57,
      "metadata": {
        "id": "sBBLlKsJN3ot"
      },
      "outputs": [],
      "source": [
        "import json\n",
        "write = open(\"test.jsonl\", \"w\")\n",
        "\n",
        "with open(\"target_test.jsonl\", \"r\") as f:\n",
        "    for line in f.readlines():\n",
        "        start = 0\n",
        "        l = json.loads(line)\n",
        "        sentences = l['senences']\n",
        "        l['ners'] = []\n",
        "        for sentence in sentences.split('\\n'):\n",
        "            l['ners'].extend(validate(sentence, model, train_dataset, addit=start))\n",
        "            start += len(sentence) + 1\n",
        "        write.write(json.dumps(l))\n",
        "        write.write('\\n')\n",
        "write.close()"
      ]
    }
  ],
  "metadata": {
    "accelerator": "GPU",
    "colab": {
      "gpuType": "T4",
      "provenance": []
    },
    "kernelspec": {
      "display_name": "Python 3",
      "name": "python3"
    },
    "language_info": {
      "codemirror_mode": {
        "name": "ipython",
        "version": 3
      },
      "file_extension": ".py",
      "mimetype": "text/x-python",
      "name": "python",
      "nbconvert_exporter": "python",
      "pygments_lexer": "ipython3",
      "version": "3.11.7"
    }
  },
  "nbformat": 4,
  "nbformat_minor": 0
}
